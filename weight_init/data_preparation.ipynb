{
 "cells": [
  {
   "cell_type": "code",
   "execution_count": 1,
   "id": "b2c50615",
   "metadata": {},
   "outputs": [],
   "source": [
    "import os\n",
    "import cv2\n",
    "import numpy as np\n",
    "import pandas as pd \n",
    "from tqdm import tqdm"
   ]
  },
  {
   "cell_type": "code",
   "execution_count": 2,
   "id": "02cefe13",
   "metadata": {},
   "outputs": [
    {
     "name": "stdout",
     "output_type": "stream",
     "text": [
      "['dogs', 'panda', 'cats'] 3\n"
     ]
    }
   ],
   "source": [
    "data_dir = '/home/dev/Documents/AIUB/DATASET/animals'\n",
    "dataset_path = os.listdir('/home/dev/Documents/AIUB/DATASET/animals')\n",
    "\n",
    "all_types = os.listdir(data_dir)\n",
    "print (all_types, len(all_types))"
   ]
  },
  {
   "cell_type": "code",
   "execution_count": 3,
   "id": "d2047285",
   "metadata": {},
   "outputs": [
    {
     "name": "stderr",
     "output_type": "stream",
     "text": [
      "100%|██████████████████████████████████| 1000/1000 [00:00<00:00, 1704308.82it/s]\n",
      "100%|██████████████████████████████████| 1000/1000 [00:00<00:00, 1444817.09it/s]\n",
      "100%|██████████████████████████████████| 1000/1000 [00:00<00:00, 1578586.38it/s]\n"
     ]
    }
   ],
   "source": [
    "animals = []\n",
    "for item in all_types:\n",
    "    tmp = os.listdir(data_dir + '/' +item)\n",
    "    for a in tqdm(tmp):\n",
    "        animals.append((item, str(data_dir + '/' +item) + '/' + a))"
   ]
  },
  {
   "cell_type": "code",
   "execution_count": 4,
   "id": "0b45f03c",
   "metadata": {},
   "outputs": [
    {
     "name": "stdout",
     "output_type": "stream",
     "text": [
      "  animal type                                              image\n",
      "0        dogs  /home/dev/Documents/AIUB/DATASET/animals/dogs/...\n",
      "1        dogs  /home/dev/Documents/AIUB/DATASET/animals/dogs/...\n",
      "2        dogs  /home/dev/Documents/AIUB/DATASET/animals/dogs/...\n",
      "3        dogs  /home/dev/Documents/AIUB/DATASET/animals/dogs/...\n",
      "4        dogs  /home/dev/Documents/AIUB/DATASET/animals/dogs/...\n",
      "     animal type                                              image\n",
      "2995        cats  /home/dev/Documents/AIUB/DATASET/animals/cats/...\n",
      "2996        cats  /home/dev/Documents/AIUB/DATASET/animals/cats/...\n",
      "2997        cats  /home/dev/Documents/AIUB/DATASET/animals/cats/...\n",
      "2998        cats  /home/dev/Documents/AIUB/DATASET/animals/cats/...\n",
      "2999        cats  /home/dev/Documents/AIUB/DATASET/animals/cats/...\n"
     ]
    }
   ],
   "source": [
    "animal_df = pd.DataFrame(data=animals, columns=['animal type', 'image'])\n",
    "print(animal_df.head())\n",
    "print(animal_df.tail())"
   ]
  },
  {
   "cell_type": "code",
   "execution_count": 5,
   "id": "912a4169",
   "metadata": {},
   "outputs": [
    {
     "name": "stdout",
     "output_type": "stream",
     "text": [
      "Total number of animals in the dataset:  3000\n"
     ]
    }
   ],
   "source": [
    "print(\"Total number of animals in the dataset: \", len(animal_df))"
   ]
  },
  {
   "cell_type": "code",
   "execution_count": 6,
   "id": "203ef3d2",
   "metadata": {},
   "outputs": [
    {
     "name": "stdout",
     "output_type": "stream",
     "text": [
      "animals in each category: \n",
      "dogs     1000\n",
      "panda    1000\n",
      "cats     1000\n",
      "Name: animal type, dtype: int64\n"
     ]
    }
   ],
   "source": [
    "animal_count = animal_df['animal type'].value_counts()\n",
    "print(\"animals in each category: \")\n",
    "print(animal_count)"
   ]
  },
  {
   "cell_type": "code",
   "execution_count": 7,
   "id": "bbb8dddc",
   "metadata": {},
   "outputs": [
    {
     "name": "stderr",
     "output_type": "stream",
     "text": [
      "100%|██████████████████████████████████████| 1000/1000 [00:01<00:00, 722.54it/s]\n",
      "100%|██████████████████████████████████████| 1000/1000 [00:03<00:00, 289.05it/s]\n",
      "100%|██████████████████████████████████████| 1000/1000 [00:01<00:00, 744.66it/s]\n"
     ]
    }
   ],
   "source": [
    "im_size = 60\n",
    "images = []\n",
    "labels = []\n",
    "\n",
    "for i in all_types:\n",
    "    data_path = data_dir +'/' +str(i)\n",
    "    filenames = [i for i in os.listdir(data_path) ]\n",
    "    for f in tqdm(filenames):\n",
    "        try:\n",
    "            img = cv2.imread(data_path + '/' + f)\n",
    "            img = cv2.resize(img, (im_size, im_size))\n",
    "            images.append(img)\n",
    "            labels.append(i)\n",
    "        except Exception as e:\n",
    "            pass"
   ]
  },
  {
   "cell_type": "code",
   "execution_count": 8,
   "id": "e7742784",
   "metadata": {},
   "outputs": [
    {
     "data": {
      "text/plain": [
       "(3000, 60, 60, 3)"
      ]
     },
     "execution_count": 8,
     "metadata": {},
     "output_type": "execute_result"
    }
   ],
   "source": [
    "images = np.array(images)\n",
    "images.shape"
   ]
  },
  {
   "cell_type": "code",
   "execution_count": 9,
   "id": "fa09d24d",
   "metadata": {},
   "outputs": [],
   "source": [
    "images = images.astype('float32') / 255.0"
   ]
  },
  {
   "cell_type": "code",
   "execution_count": 10,
   "id": "1e78fe50",
   "metadata": {},
   "outputs": [
    {
     "name": "stdout",
     "output_type": "stream",
     "text": [
      "['dogs' 'dogs' 'dogs' 'dogs' 'dogs']\n"
     ]
    }
   ],
   "source": [
    "from sklearn.preprocessing import LabelEncoder , OneHotEncoder\n",
    "y=animal_df['animal type'].values\n",
    "print(y[:5])"
   ]
  },
  {
   "cell_type": "code",
   "execution_count": 11,
   "id": "525e272a",
   "metadata": {},
   "outputs": [
    {
     "name": "stdout",
     "output_type": "stream",
     "text": [
      "[1 1 1 ... 0 0 0]\n"
     ]
    }
   ],
   "source": [
    "y_labelencoder = LabelEncoder ()\n",
    "y = y_labelencoder.fit_transform (y)\n",
    "print (y)"
   ]
  },
  {
   "cell_type": "code",
   "execution_count": 12,
   "id": "dbedf17a",
   "metadata": {},
   "outputs": [
    {
     "data": {
      "text/plain": [
       "(3000, 3)"
      ]
     },
     "execution_count": 12,
     "metadata": {},
     "output_type": "execute_result"
    }
   ],
   "source": [
    "y=y.reshape(-1,1)\n",
    "onehotencoder = OneHotEncoder(categories='auto') \n",
    "Y= onehotencoder.fit_transform(y)\n",
    "Y.shape"
   ]
  },
  {
   "cell_type": "code",
   "execution_count": 13,
   "id": "38ff7d01",
   "metadata": {},
   "outputs": [
    {
     "name": "stdout",
     "output_type": "stream",
     "text": [
      "(2850, 60, 60, 3)\n",
      "(2850, 3)\n",
      "(150, 60, 60, 3)\n",
      "(150, 3)\n"
     ]
    }
   ],
   "source": [
    "from sklearn.utils import shuffle\n",
    "from sklearn.model_selection import train_test_split\n",
    "\n",
    "images, Y = shuffle(images, Y, random_state=1)\n",
    "train_x, test_x, train_y, test_y = train_test_split(images, Y, test_size=0.05, random_state=415)\n",
    "\n",
    "print(train_x.shape)\n",
    "print(train_y.shape)\n",
    "print(test_x.shape)\n",
    "print(test_y.shape)"
   ]
  },
  {
   "cell_type": "code",
   "execution_count": 16,
   "id": "a1ff7a8c",
   "metadata": {},
   "outputs": [],
   "source": [
    "import pickle\n",
    "\n",
    "pickle_out = open(\"./data/train_x.pickle\",\"wb\")\n",
    "pickle.dump(train_x, pickle_out)\n",
    "pickle_out.close()\n",
    "\n",
    "pickle_out = open(\"./data/train_y.pickle\",\"wb\")\n",
    "pickle.dump(train_y, pickle_out)\n",
    "pickle_out.close()\n",
    "\n",
    "\n",
    "pickle_out = open(\"./data/test_x.pickle\",\"wb\")\n",
    "pickle.dump(test_x, pickle_out)\n",
    "pickle_out.close()\n",
    "\n",
    "pickle_out = open(\"./data/test_y.pickle\",\"wb\")\n",
    "pickle.dump(test_y, pickle_out)\n",
    "pickle_out.close()"
   ]
  },
  {
   "cell_type": "code",
   "execution_count": null,
   "id": "7dab5e5e",
   "metadata": {},
   "outputs": [],
   "source": []
  }
 ],
 "metadata": {
  "kernelspec": {
   "display_name": "tf1.5 py3.7",
   "language": "python",
   "name": "tf1"
  },
  "language_info": {
   "codemirror_mode": {
    "name": "ipython",
    "version": 3
   },
   "file_extension": ".py",
   "mimetype": "text/x-python",
   "name": "python",
   "nbconvert_exporter": "python",
   "pygments_lexer": "ipython3",
   "version": "3.7.11"
  }
 },
 "nbformat": 4,
 "nbformat_minor": 5
}
